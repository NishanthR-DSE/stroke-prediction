{
 "cells": [
  {
   "cell_type": "code",
   "execution_count": 21,
   "id": "48920438",
   "metadata": {},
   "outputs": [
    {
     "name": "stdout",
     "output_type": "stream",
     "text": [
      "Overwriting app.py\n"
     ]
    }
   ],
   "source": [
    "%%writefile app.py\n",
    "import streamlit as st\n",
    "import pandas as pd\n",
    "import numpy as np\n",
    "import pickle\n",
    "import base64\n",
    "\n",
    "st.title('Stroke Prediction')\n",
    "st.markdown('Tell us about yourself')\n",
    "age=st.slider('Age',1,82,1)\n",
    "hypertension=st.selectbox('Hypertension',('Yes','No'))\n",
    "heart_disease=st.selectbox('Heart Disease',('Yes','No'))\n",
    "ever_married=st.selectbox('Married',('Yes','No'))\n",
    "work_type=st.selectbox('Work Type',('Private', 'Self-employed', 'Govt_job', 'children', 'Never_worked'))\n",
    "smoking_status=st.selectbox('Smoking Status',('Formerly smoked', 'Never smoked', 'Smokes','Unknown'))\n",
    "bmi=st.number_input('BMI',10,97)\n",
    "avg_glucose_level=st.slider('Average Glucose Level',55,271)\n",
    "\n",
    "with open('Model_Catboost','rb')as file :\n",
    "    Model=pickle.load(file)\n",
    "with open ('transform_age','rb') as file:\n",
    "    age_transformation=pickle.load(file)\n",
    "with open ('transform_bmi','rb') as file:\n",
    "    bmi_transformation=pickle.load(file)\n",
    "with open ('transform_avg_glucose_level','rb') as file:\n",
    "    avg_glucose_transformation=pickle.load(file)\n",
    "    \n",
    "\n",
    "bmi_t=bmi_transformation.transform(pd.DataFrame([bmi]))\n",
    "avgl=avg_glucose_transformation.transform(pd.DataFrame([avg_glucose_level]))\n",
    "age_t=age_transformation.transform(pd.DataFrame([age]))\n",
    "\n",
    "data={'age':age_t[0],\n",
    "      'hypertension':[0 if hypertension=='No' else 1],\n",
    "     'heart_disease':[0 if heart_disease=='No' else 1],\n",
    "     'ever_married':[0 if ever_married=='No' else 1],\n",
    "     'smoking_status':[0 if smoking_status=='never smoked' else 1 if smoking_status == 'Unknown' else 2 if \n",
    "                  smoking_status == 'formerly smoked' else -1],\n",
    "     'work_type':[0 if work_type == 'Private' else 1 if work_type == 'Selfemployed'\n",
    "                  else 2 if work_type == 'Govt_job' else 1 if work_type == 'children' else -2],\n",
    "     'bmi':bmi_t[0],\n",
    "     'avg_glucose_level':avgl[0]}\n",
    "\n",
    "predictions =  Model.predict(pd.DataFrame(data))\n",
    "\n",
    "\n",
    "\n",
    "if st.button('Predict'):\n",
    "    if predictions == 0:\n",
    "        st.subheader('You will not get stroke')\n",
    "    else:\n",
    "        st.subheader('You will get stroke')"
   ]
  },
  {
   "cell_type": "code",
   "execution_count": null,
   "id": "f4385587",
   "metadata": {},
   "outputs": [],
   "source": []
  }
 ],
 "metadata": {
  "kernelspec": {
   "display_name": "Python 3 (ipykernel)",
   "language": "python",
   "name": "python3"
  },
  "language_info": {
   "codemirror_mode": {
    "name": "ipython",
    "version": 3
   },
   "file_extension": ".py",
   "mimetype": "text/x-python",
   "name": "python",
   "nbconvert_exporter": "python",
   "pygments_lexer": "ipython3",
   "version": "3.9.13"
  }
 },
 "nbformat": 4,
 "nbformat_minor": 5
}
